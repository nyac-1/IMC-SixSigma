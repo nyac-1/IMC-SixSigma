{
 "cells": [
  {
   "cell_type": "code",
   "execution_count": 1,
   "id": "4ca4fd03-e3be-4f4b-91d8-d716fd2f2e2a",
   "metadata": {},
   "outputs": [],
   "source": [
    "import numpy as np"
   ]
  },
  {
   "cell_type": "code",
   "execution_count": 2,
   "id": "a63e5dba-44b0-4b0e-9668-744321f39aea",
   "metadata": {},
   "outputs": [
    {
     "data": {
      "text/plain": [
       "array([967.27202405, 915.84911329, 939.88224852, 964.64563296,\n",
       "       952.53353817, 965.30992548, 941.67013169, 945.31274137,\n",
       "       954.98955718, 966.00914029])"
      ]
     },
     "execution_count": 2,
     "metadata": {},
     "output_type": "execute_result"
    }
   ],
   "source": [
    "def simulate_reserve_prices_inverse_cdf(n):\n",
    "    \"\"\"\n",
    "    Simulate reserve prices for n goldfish using inverse transform sampling.\n",
    "    This function applies the inverse of the calculated CDF to uniform random samples.\n",
    "    \n",
    "    :param n: Number of goldfish (reserve prices) to simulate\n",
    "    :return: Array of simulated reserve prices\n",
    "    \"\"\"\n",
    "    # Generate n uniform random numbers between 0 and 1\n",
    "    uniform_random_samples = np.random.uniform(0, 1, n)\n",
    "    \n",
    "    # Apply the inverse of the CDF to these uniform samples\n",
    "    # The inverse CDF (quantile function) for our distribution is derived from solving the CDF equation for X\n",
    "    # From CDF: F(X) = ((X^2)/10000) - (9*X)/50 + 81, we find its inverse for uniform random samples\n",
    "    # The specific inverse CDF function used here is based on the quadratic formula applied to the CDF\n",
    "    # Given F(X) = uniform_random_samples, solve for X\n",
    "    inverse_cdf_samples = 900 + np.sqrt(5000 * uniform_random_samples)\n",
    "    \n",
    "    return inverse_cdf_samples\n",
    "\n",
    "# Example use of the function with n=10000 goldfish\n",
    "n = 10000\n",
    "simulated_reserve_prices = simulate_reserve_prices_inverse_cdf(n)\n",
    "\n",
    "# To give an idea of what the simulated reserve prices look like, let's show the first 10\n",
    "simulated_reserve_prices[:10]"
   ]
  },
  {
   "cell_type": "code",
   "execution_count": 2,
   "id": "4b95fbaa-b012-462b-b5e7-4601a7a5ac13",
   "metadata": {},
   "outputs": [
    {
     "ename": "SyntaxError",
     "evalue": "invalid syntax (2399017707.py, line 8)",
     "output_type": "error",
     "traceback": [
      "\u001b[0;36m  Cell \u001b[0;32mIn[2], line 8\u001b[0;36m\u001b[0m\n\u001b[0;31m    plt.figure(figsize=(10, 6))n\u001b[0m\n\u001b[0m                               ^\u001b[0m\n\u001b[0;31mSyntaxError\u001b[0m\u001b[0;31m:\u001b[0m invalid syntax\n"
     ]
    }
   ],
   "source": [
    "import matplotlib.pyplot as plt\n",
    "\n",
    "# Simulate reserve prices for n=10000 goldfish again for plotting\n",
    "n = 1000\n",
    "simulated_reserve_prices_plot = simulate_reserve_prices_inverse_cdf(n)\n",
    "\n",
    "# Plot the distribution of simulated reserve prices\n",
    "plt.figure(figsize=(10, 6))n\n",
    "plt.hist(simulated_reserve_prices_plot, bins=50, color='skyblue', edgecolor='black')\n",
    "plt.title('Distribution of Simulated Reserve Prices')\n",
    "plt.xlabel('Reserve Price (SeaShells)')\n",
    "plt.ylabel('Frequency')\n",
    "plt.grid(axis='y', alpha=0.75)\n",
    "plt.show()\n"
   ]
  },
  {
   "cell_type": "code",
   "execution_count": 5,
   "id": "00f33a05-5fb6-41b1-b7e3-2854b5c7cd7f",
   "metadata": {},
   "outputs": [
    {
     "name": "stdout",
     "output_type": "stream",
     "text": [
      "948 971 39.56113417721519\n"
     ]
    }
   ],
   "source": [
    "import numpy as np\n",
    "\n",
    "# Function to simulate the random variable X\n",
    "def simulate_reserve_prices_inverse_cdf(n=10000):\n",
    "    uniform_random_samples = np.random.uniform(0, 1, n)\n",
    "    inverse_cdf_samples = 900 + np.sqrt(5000 * uniform_random_samples)\n",
    "    return inverse_cdf_samples\n",
    "\n",
    "# Simulating the reserve prices\n",
    "\n",
    "\n",
    "# Function to calculate the expected value for given L and H\n",
    "def calculate_expected_value_adjusted(prices, L, H):\n",
    "    condition_L = prices <= L\n",
    "    condition_H = (prices > L) & (prices <= H)\n",
    "    condition_else = prices > H  # For X > H\n",
    "    # Assign L for X <= L, H for L < X <= H, and 1000 for X > H\n",
    "    A_values = np.where(condition_L, L, np.where(condition_H, H, 1000))\n",
    "    # Calculate profit for all cases, which is 1000 - A\n",
    "    profit_values = 1000 - A_values\n",
    "    return np.mean(profit_values)\n",
    "\n",
    "# Iterate over a range of L and H to find the optimal pair\n",
    "n_pairs = 100000  # Number of random pairs to test\n",
    "random_LH_pairs = np.random.randint(900, 1001, (n_pairs, 2))\n",
    "random_LH_pairs = random_LH_pairs[random_LH_pairs[:, 1] > random_LH_pairs[:, 0]]  # Ensure L < H\n",
    "n = random_LH_pairs.shape[0]\n",
    "simulated_reserve_prices = simulate_reserve_prices_inverse_cdf(n)\n",
    "\n",
    "max_expected_value_adjusted = 0\n",
    "optimal_L_adjusted = 0\n",
    "optimal_H_adjusted = 0\n",
    "\n",
    "for L, H in random_LH_pairs:\n",
    "    expected_value = calculate_expected_value_adjusted(simulated_reserve_prices, L, H)\n",
    "    if expected_value > max_expected_value_adjusted:\n",
    "        max_expected_value_adjusted = expected_value\n",
    "        optimal_L_adjusted = L\n",
    "        optimal_H_adjusted = H\n",
    "\n",
    "print(optimal_L_adjusted, optimal_H_adjusted, max_expected_value_adjusted)\n"
   ]
  },
  {
   "cell_type": "code",
   "execution_count": null,
   "id": "1fb4f3e6-c332-491b-8dbd-e8da3d4bcd53",
   "metadata": {},
   "outputs": [],
   "source": []
  }
 ],
 "metadata": {
  "kernelspec": {
   "display_name": "Python 3 (ipykernel)",
   "language": "python",
   "name": "python3"
  },
  "language_info": {
   "codemirror_mode": {
    "name": "ipython",
    "version": 3
   },
   "file_extension": ".py",
   "mimetype": "text/x-python",
   "name": "python",
   "nbconvert_exporter": "python",
   "pygments_lexer": "ipython3",
   "version": "3.11.5"
  }
 },
 "nbformat": 4,
 "nbformat_minor": 5
}
